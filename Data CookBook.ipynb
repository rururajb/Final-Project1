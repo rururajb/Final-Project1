{
 "cells": [
  {
   "cell_type": "markdown",
   "id": "587903d1",
   "metadata": {},
   "source": [
    "# Importing the necessary libraries"
   ]
  },
  {
   "cell_type": "code",
   "execution_count": null,
   "id": "06a74e7c",
   "metadata": {},
   "outputs": [],
   "source": [
    "# Imports pandas, which is a power data analysis and manipulation library for Python\n",
    "import pandas as pd"
   ]
  },
  {
   "cell_type": "markdown",
   "id": "f1512513",
   "metadata": {},
   "source": [
    "# Loading in the data and inspection"
   ]
  },
  {
   "cell_type": "code",
   "execution_count": 13,
   "id": "913e93d2",
   "metadata": {
    "scrolled": true
   },
   "outputs": [
    {
     "name": "stdout",
     "output_type": "stream",
     "text": [
      "        Entity Code  Year  Terrorism deaths\n",
      "0  Afghanistan  AFG  1970                 0\n",
      "1  Afghanistan  AFG  1971                 0\n",
      "2  Afghanistan  AFG  1972                 0\n",
      "3  Afghanistan  AFG  1973                 0\n",
      "4  Afghanistan  AFG  1974                 0\n",
      "<class 'pandas.core.frame.DataFrame'>\n",
      "RangeIndex: 10517 entries, 0 to 10516\n",
      "Data columns (total 4 columns):\n",
      " #   Column            Non-Null Count  Dtype \n",
      "---  ------            --------------  ----- \n",
      " 0   Entity            10517 non-null  object\n",
      " 1   Code              9263 non-null   object\n",
      " 2   Year              10517 non-null  int64 \n",
      " 3   Terrorism deaths  10517 non-null  int64 \n",
      "dtypes: int64(2), object(2)\n",
      "memory usage: 328.8+ KB\n",
      "None\n"
     ]
    }
   ],
   "source": [
    "#Loads the dataset from the CSV file in pandas datafarme \"data\"\n",
    "data = pd.read_csv('terrorism-deaths.csv')\n",
    "\n",
    "# Displays the first five rows of the dataframe using the .head() method\n",
    "print(data.head())\n",
    "\n",
    "# Gathers information on the dataset\n",
    "print(data.info())"
   ]
  },
  {
   "cell_type": "markdown",
   "id": "e5465824",
   "metadata": {},
   "source": [
    "# Data Cleaning"
   ]
  },
  {
   "cell_type": "code",
   "execution_count": 9,
   "id": "944e4bff",
   "metadata": {},
   "outputs": [
    {
     "name": "stdout",
     "output_type": "stream",
     "text": [
      "<class 'pandas.core.frame.DataFrame'>\n",
      "RangeIndex: 10517 entries, 0 to 10516\n",
      "Data columns (total 4 columns):\n",
      " #   Column            Non-Null Count  Dtype \n",
      "---  ------            --------------  ----- \n",
      " 0   Entity            10517 non-null  object\n",
      " 1   Code              10517 non-null  object\n",
      " 2   Year              10517 non-null  int64 \n",
      " 3   Terrorism deaths  10517 non-null  int64 \n",
      "dtypes: int64(2), object(2)\n",
      "memory usage: 328.8+ KB\n",
      "None\n"
     ]
    }
   ],
   "source": [
    "# Filling missing values\n",
    "data['Code'].fillna('Unknown', inplace=True)\n",
    "\n",
    "# Making sure the changes are present\n",
    "print(data.info())"
   ]
  },
  {
   "cell_type": "markdown",
   "id": "eed6e21b",
   "metadata": {},
   "source": [
    "# Sorting and Filtering the Data"
   ]
  },
  {
   "cell_type": "code",
   "execution_count": 10,
   "id": "ff6be1ab",
   "metadata": {},
   "outputs": [
    {
     "name": "stdout",
     "output_type": "stream",
     "text": [
      "      Entity      Code  Year  Terrorism deaths\n",
      "10221  World  OWID_WRL  2014             44576\n",
      "10222  World  OWID_WRL  2015             38876\n",
      "10223  World  OWID_WRL  2016             35109\n",
      "481     Asia   Unknown  2014             28445\n",
      "10224  World  OWID_WRL  2017             26843\n",
      "         Entity Code  Year  Terrorism deaths\n",
      "30  Afghanistan  AFG  2001               174\n",
      "31  Afghanistan  AFG  2002                74\n",
      "32  Afghanistan  AFG  2003               163\n",
      "33  Afghanistan  AFG  2004               275\n",
      "34  Afghanistan  AFG  2005               367\n"
     ]
    }
   ],
   "source": [
    "# Sorts \"Terrorism deaths in descending order\"\n",
    "sorted_data = data.sort_values(by='Terrorism deaths', ascending=False)\n",
    "\n",
    "# Filtering the data to include only the records after the year 2000\n",
    "filtered_data = data[data['Year'] > 2000]\n",
    "\n",
    "# Displaying the sorted and filtered data\n",
    "print(sorted_data.head())\n",
    "print(filtered_data.head())\n"
   ]
  },
  {
   "cell_type": "markdown",
   "id": "5ca8259b",
   "metadata": {},
   "source": [
    "# Data Aggregation"
   ]
  },
  {
   "cell_type": "code",
   "execution_count": null,
   "id": "8f6045cb",
   "metadata": {},
   "outputs": [],
   "source": [
    "# Grouping the data by 'Year' and sums up the terrorist deaths\n",
    "yearly_deaths = data.groupby('Year')['Terrorism deaths'].sum().reset_index()\n",
    "\n",
    "# Displays aggregated data\n",
    "print(yearly_deaths)\n"
   ]
  },
  {
   "cell_type": "markdown",
   "id": "e53c2ce0",
   "metadata": {},
   "source": [
    "# Finding the maximum and minimum number of terrorist deaths. "
   ]
  },
  {
   "cell_type": "code",
   "execution_count": 12,
   "id": "d92d451a",
   "metadata": {},
   "outputs": [
    {
     "name": "stdout",
     "output_type": "stream",
     "text": [
      "Entity                 World\n",
      "Code                OWID_WRL\n",
      "Year                    2014\n",
      "Terrorism deaths       44576\n",
      "Name: 10221, dtype: object\n",
      "Entity              Afghanistan\n",
      "Code                        AFG\n",
      "Year                       1970\n",
      "Terrorism deaths              0\n",
      "Name: 0, dtype: object\n"
     ]
    }
   ],
   "source": [
    "# Finding the year with the maximum number of terrorism deaths\n",
    "max_deaths_year = data.loc[data['Terrorism deaths'].idxmax()]\n",
    "\n",
    "# Finding the year with the minimum number of terrorism deaths\n",
    "min_deaths_year = data.loc[data['Terrorism deaths'].idxmin()]\n",
    "\n",
    "# Displaying the findings\n",
    "print(max_deaths_year)\n",
    "print(min_deaths_year)\n"
   ]
  },
  {
   "cell_type": "markdown",
   "id": "80fbb4f6",
   "metadata": {},
   "source": [
    "# Using two methods for the same data"
   ]
  },
  {
   "cell_type": "code",
   "execution_count": null,
   "id": "d1f07ed5",
   "metadata": {},
   "outputs": [],
   "source": [
    "# Method 1: Using max()\n",
    "max_deaths = data['Terrorism deaths'].max()\n",
    "print(f\"The maximum number of terrorism deaths: {max_deaths}\")\n",
    "\n",
    "# Method 2: Sorting and selecting the top value\n",
    "max_deaths_sorted = data.sort_values('Terrorism deaths', ascending=False).iloc[0]\n",
    "print(f\"The maximum number of terrorism deaths: {max_deaths_sorted['Terrorism deaths']}\")\n"
   ]
  }
 ],
 "metadata": {
  "kernelspec": {
   "display_name": "Python 3 (ipykernel)",
   "language": "python",
   "name": "python3"
  },
  "language_info": {
   "codemirror_mode": {
    "name": "ipython",
    "version": 3
   },
   "file_extension": ".py",
   "mimetype": "text/x-python",
   "name": "python",
   "nbconvert_exporter": "python",
   "pygments_lexer": "ipython3",
   "version": "3.9.12"
  }
 },
 "nbformat": 4,
 "nbformat_minor": 5
}
